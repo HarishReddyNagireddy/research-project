{
 "cells": [
  {
   "cell_type": "markdown",
   "metadata": {},
   "source": [
    "# Libraries"
   ]
  },
  {
   "cell_type": "code",
   "execution_count": 1,
   "metadata": {},
   "outputs": [],
   "source": [
    "import pandas as pd\n",
    "import numpy as np\n",
    "import matplotlib.pyplot as plt\n",
    "from openpyxl import load_workbook "
   ]
  },
  {
   "cell_type": "markdown",
   "metadata": {},
   "source": [
    "# Plotting Different Regimes"
   ]
  },
  {
   "cell_type": "code",
   "execution_count": 2,
   "metadata": {},
   "outputs": [],
   "source": [
    "#### Import the required file and get a dataframe for analysis: \n",
    "\n",
    "wb = load_workbook(filename='US quarterly CPI _ growth rate.xlsx',  \n",
    "\n",
    "                   read_only = True, \n",
    "\n",
    "                   data_only = True) \n",
    "\n",
    "ws = wb['FRED Graph'] \n",
    "\n",
    "# Read the cell values into a list of lists: \n",
    "\n",
    "data_rows = [] \n",
    "\n",
    "for row in ws['A12':'B127']:             # only a section of the entire file is reqd. \n",
    "\n",
    "    data_cols = [] \n",
    "\n",
    "    for cell in row: \n",
    "\n",
    "        data_cols.append(cell.value) \n",
    "\n",
    "    data_rows.append(data_cols) \n",
    "\n",
    "# Transform into dataframe: \n",
    "\n",
    "df_CPI = pd.DataFrame(data_rows) \n",
    "\n",
    "list_CPI = (df_CPI.iloc[:,1])[2:].tolist()\n",
    "\n",
    "dx = [list_CPI[i+1]-list_CPI[i] for i in range(len(list_CPI)-1)]\n",
    "\n",
    "df_GDP= pd.read_excel('macro data .xlsx',sheet_name = 'Quaterly GDP')\n",
    "\n",
    "list_GDP = df_GDP['Value( $ Trillion) '].tolist()\n",
    "\n",
    "dy = [list_GDP[i+1]-list_GDP[i] for i in range(len(list_GDP)-1)]\n",
    "\n",
    "data_delta = pd.DataFrame(dx,columns=['change in x(inflation)'])\n",
    "\n",
    "data_delta['change in y(GDP)'] = dy\n"
   ]
  },
  {
   "cell_type": "code",
   "execution_count": 3,
   "metadata": {},
   "outputs": [
    {
     "data": {
      "image/png": "[encoded data removed]",
      "text/plain": [
       "<Figure size 432x288 with 1 Axes>"
      ]
     },
     "metadata": {},
     "output_type": "display_data"
    },
    {
     "data": {
      "text/plain": [
       "Text(0,0.5,'change in GDP')"
      ]
     },
     "execution_count": 3,
     "metadata": {},
     "output_type": "execute_result"
    },
    {
     "data": {
      "image/png": "[encoded data removed]",
      "text/plain": [
       "<Figure size 432x288 with 1 Axes>"
      ]
     },
     "metadata": {},
     "output_type": "display_data"
    }
   ],
   "source": [
    "import warnings \n",
    "warnings.filterwarnings('ignore') \n",
    "\n",
    "plt.figure()\n",
    "# Hold activation for multiple lines on same graph\n",
    "plt.hold('on')\n",
    "# Set x-axis range\n",
    "plt.xlim((-3,3))\n",
    "# Set y-axis range\n",
    "plt.ylim((-3,3))\n",
    "# Draw lines to split quadrants\n",
    "plt.plot([0,0],[-3,3], linewidth=0.5, color='red' )\n",
    "plt.plot([-3,3],[0,0], linewidth=0.5, color='red' )\n",
    "plt.plot(list_CPI,list_GDP,'.')\n",
    "plt.xlabel('Inflation')\n",
    "plt.ylabel('GDP')\n",
    "plt.show()\n",
    "\n",
    "plt.plot(data_delta.iloc[:,0],data_delta.iloc[:,1],'.')\n",
    "plt.xlabel('change in inflation')\n",
    "plt.ylabel('change in GDP')\n",
    "\n"
   ]
  },
  {
   "cell_type": "markdown",
   "metadata": {},
   "source": [
    "# Correlation of asset classes"
   ]
  },
  {
   "cell_type": "code",
   "execution_count": 4,
   "metadata": {},
   "outputs": [
    {
     "name": "stdout",
     "output_type": "stream",
     "text": [
      "              Gold    S&P500  Treasury       USD\n",
      "Gold      1.000000 -0.163834 -0.271627  0.222293\n",
      "S&P500   -0.163834  1.000000  0.515052  0.322871\n",
      "Treasury -0.271627  0.515052  1.000000  0.373172\n",
      "USD       0.222293  0.322871  0.373172  1.000000\n"
     ]
    }
   ],
   "source": [
    "def Daily_to_Yearly(data):\n",
    "    # get the year column from Date \n",
    "    data['Year'] = pd.DatetimeIndex(data['Date']).year\n",
    "    # get the end of the date per year\n",
    "    data_yearly = pd.DataFrame(data.groupby(['Year'], sort = False).last())\n",
    "    # Since 2018 does not have the date of December, we have to drop it\n",
    "    data_yearly.drop(2018)\n",
    "    # drop the year index\n",
    "    data_yearly.reset_index(drop=True, inplace=True)\n",
    "    \n",
    "    return data_yearly\n",
    "\n",
    "Gold=pd.read_excel('AssetClasses.xlsx',sheet_name='Gold')\n",
    "Gold.columns=['Date','Values']\n",
    "Gold_yearly=Daily_to_Yearly(Gold)\n",
    "Gold_return=Gold_yearly['Values'].pct_change()\n",
    "\n",
    "SP500=pd.read_excel('AssetClasses.xlsx',sheet_name='S&P500')\n",
    "SP500.columns=['Date','Values']\n",
    "SP500_yearly=Daily_to_Yearly(SP500)\n",
    "SP500_return=SP500_yearly['Values'].pct_change()\n",
    "\n",
    "Treasury=pd.read_excel('AssetClasses.xlsx',sheet_name='Treasuries')\n",
    "Treasury.columns=['Date','Values']\n",
    "Treasury_yearly=Daily_to_Yearly(Treasury)\n",
    "Treasury_return=Treasury_yearly['Values'].pct_change()\n",
    "\n",
    "USD=pd.read_excel('AssetClasses.xlsx',sheet_name='USD')\n",
    "USD.columns=['Date','Values']\n",
    "USD_yearly=Daily_to_Yearly(USD)\n",
    "USD_return=USD_yearly['Values'].pct_change()\n",
    "\n",
    "#create a dataframe\n",
    "AssetClass=pd.DataFrame()\n",
    "AssetClass['Gold']=Gold_return\n",
    "AssetClass['S&P500']=SP500_return\n",
    "AssetClass['Treasury']=Treasury_return\n",
    "AssetClass['USD']=USD_return\n",
    "AssetClass.dropna(inplace=True)\n",
    "\n",
    "AssetCorr=AssetClass.corr()\n",
    "\n",
    "print(AssetCorr)\n",
    "\n"
   ]
  },
  {
   "cell_type": "code",
   "execution_count": null,
   "metadata": {},
   "outputs": [],
   "source": [
    "\n"
   ]
  },
  {
   "cell_type": "code",
   "execution_count": null,
   "metadata": {},
   "outputs": [],
   "source": []
  }
 ],
 "metadata": {
  "kernelspec": {
   "display_name": "Python 3",
   "language": "python",
   "name": "python3"
  },
  "language_info": {
   "codemirror_mode": {
    "name": "ipython",
    "version": 3
   },
   "file_extension": ".py",
   "mimetype": "text/x-python",
   "name": "python",
   "nbconvert_exporter": "python",
   "pygments_lexer": "ipython3",
   "version": "3.6.5"
  }
 },
 "nbformat": 4,
 "nbformat_minor": 2
}
